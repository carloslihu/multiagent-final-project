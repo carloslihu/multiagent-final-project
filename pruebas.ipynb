{
 "cells": [
  {
   "cell_type": "code",
   "execution_count": null,
   "metadata": {},
   "outputs": [],
   "source": [
    "import matplotlib.pyplot as plt\n",
    "import networkx as nx\n",
    "\n",
    "from model import *"
   ]
  },
  {
   "cell_type": "markdown",
   "metadata": {},
   "source": [
    "# pruebas"
   ]
  },
  {
   "cell_type": "code",
   "execution_count": null,
   "metadata": {},
   "outputs": [],
   "source": [
    "# def get_best_global_length(model):\n",
    "#     return model.global_best_L\n",
    "\n",
    "# optimal_length = 27603\n",
    "# C_nn = 30000\n",
    "\n",
    "# a = 1\n",
    "# b = 5\n",
    "# ro = 0.02\n",
    "# m = max_nodes = 29\n",
    "\n",
    "# tao_max = 1/(ro*optimal_length)\n",
    "\n",
    "# # tao_min = tao_max / (2*max_nodes)\n",
    "# aux = 0.05 ** (1/max_nodes)\n",
    "# tao_min = tao_max * (1 - aux) / ( (max_nodes/2 - 1) * aux )\n",
    "\n",
    "# tao_init = 1 / (ro*C_nn)\n",
    "# # tao_init = (tao_max + tao_min)/2\n",
    "\n",
    "# fixed_params = {\n",
    "#     \"a\": a,\n",
    "#     \"b\": b,\n",
    "#     \"ro\": ro,\n",
    "#     \"m\": m,\n",
    "# #     \"tao_init\": tao_init,\n",
    "#     \"tao_max\": tao_max,\n",
    "#     \"tao_min\": tao_min,\n",
    "#     \"tsp_data_file\": 'data/wi29.tsp',\n",
    "#     \"is_global_best\": True\n",
    "# }\n",
    "# variable_params = {\"tao_init\": np.arange(tao_min, tao_max, 2e-04)\n",
    "#                   }"
   ]
  },
  {
   "cell_type": "code",
   "execution_count": null,
   "metadata": {},
   "outputs": [],
   "source": [
    "# batch_run = BatchRunner(\n",
    "#     TSPModel,\n",
    "#     variable_params,\n",
    "#     fixed_params,\n",
    "#     iterations=10,\n",
    "#     max_steps=1000,\n",
    "#     model_reporters={\"global_best_L\": get_best_global_length}\n",
    "# )\n",
    "# batch_run.run_all()"
   ]
  },
  {
   "cell_type": "code",
   "execution_count": null,
   "metadata": {},
   "outputs": [],
   "source": [
    "# run_data = batch_run.get_model_vars_dataframe()\n",
    "# grouped_multiple = run_data.groupby(['a', 'b', 'ro', 'm', 'tao_init', 'tao_max', 'tao_min', 'is_global_best']).agg({'global_best_L': ['mean', 'min', 'max']})\n",
    "# grouped_multiple.columns = ['global_best_L_mean', 'global_best_L_min', 'global_best_L_max']\n",
    "# grouped_multiple = grouped_multiple.reset_index()\n",
    "# grouped_multiple"
   ]
  },
  {
   "cell_type": "code",
   "execution_count": null,
   "metadata": {},
   "outputs": [],
   "source": [
    "# grouped_multiple[grouped_multiple.global_best_L_mean == min(grouped_multiple.global_best_L_mean)]"
   ]
  }
 ],
 "metadata": {
  "kernelspec": {
   "display_name": "Python 3",
   "language": "python",
   "name": "python3"
  },
  "language_info": {
   "codemirror_mode": {
    "name": "ipython",
    "version": 3
   },
   "file_extension": ".py",
   "mimetype": "text/x-python",
   "name": "python",
   "nbconvert_exporter": "python",
   "pygments_lexer": "ipython3",
   "version": "3.8.6"
  }
 },
 "nbformat": 4,
 "nbformat_minor": 4
}

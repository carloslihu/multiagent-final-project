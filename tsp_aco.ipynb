{
 "cells": [
  {
   "cell_type": "code",
   "execution_count": null,
   "metadata": {},
   "outputs": [],
   "source": [
    "import matplotlib.pyplot as plt\n",
    "import networkx as nx\n",
    "\n",
    "from model import *"
   ]
  },
  {
   "cell_type": "markdown",
   "metadata": {},
   "source": [
    "# DEMO"
   ]
  },
  {
   "cell_type": "markdown",
   "metadata": {},
   "source": [
    "## Model Parameters"
   ]
  },
  {
   "cell_type": "code",
   "execution_count": null,
   "metadata": {},
   "outputs": [],
   "source": [
    "# Data details\n",
    "optimal_length = 27603\n",
    "C_nn = 30000\n",
    "\n",
    "\n",
    "# parameters\n",
    "a = 1\n",
    "b = 5\n",
    "ro = 0.02\n",
    "max_nodes = 29\n",
    "tao_max = 1/(ro*optimal_length)\n",
    "aux = 0.05 ** (1/max_nodes)\n",
    "tao_min = tao_max * (1 - aux) / ( (max_nodes/2 - 1) * aux )\n",
    "tao_init = tao_min\n",
    "is_global_best = True\n",
    "\n",
    "# model instanciated\n",
    "model = TSPModel(a=a,\n",
    "                 b=b, \n",
    "                 ro=ro, \n",
    "                 m=max_nodes, \n",
    "                 tao_init=tao_init, \n",
    "                 tao_max=tao_max, \n",
    "                 tao_min=tao_min, \n",
    "                 tsp_data_file = 'data/wi29.tsp', \n",
    "                 is_global_best = is_global_best\n",
    "                )\n",
    "\n",
    "total_steps = 0"
   ]
  },
  {
   "cell_type": "markdown",
   "metadata": {},
   "source": [
    "## Model execution"
   ]
  },
  {
   "cell_type": "code",
   "execution_count": null,
   "metadata": {},
   "outputs": [],
   "source": [
    "# number of steps\n",
    "steps = 10\n",
    "total_steps += steps\n",
    "\n",
    "model.run_model(steps)\n",
    "\n",
    "print('Total steps', total_steps)\n",
    "print('Global best Length: ', model.global_best_L)\n",
    "print('Objective Length:', optimal_length)\n",
    "print('Optimum difference: ', model.global_best_L - optimal_length)\n",
    "\n",
    "print('Global best path: ', model.global_best_path)\n",
    "\n",
    "\n",
    "# First plot\n",
    "L_best_values = model.datacollector.get_model_vars_dataframe()['L_best']\n",
    "fig = plt.figure(figsize=(14,7))\n",
    "plt.subplot(1, 2, 1)\n",
    "plt.ylabel('Best Length per step')\n",
    "plt.xlabel('Step')\n",
    "L_best_values.plot()\n",
    "\n",
    "\n",
    "# Second plot\n",
    "plt.subplot(1, 2, 2)\n",
    "a = [(u,v) for u,v in pairwise(model.global_best_path)]\n",
    "\n",
    "plt.title('Global best Length: {} (Objective Length: {})'.format(model.global_best_L, optimal_length))\n",
    "H = nx.Graph()\n",
    "H.add_edges_from(a)\n",
    "# H.edges\n",
    "nx.draw_networkx(model.G, \n",
    "                 pos=nx.get_node_attributes(model.G, 'coord'),\n",
    "#                  with_labels=False,\n",
    "#                  node_size = 1,\n",
    "                 edgelist=H.edges,\n",
    "                 node_color = '#FF5733')"
   ]
  }
 ],
 "metadata": {
  "kernelspec": {
   "display_name": "Python 3",
   "language": "python",
   "name": "python3"
  },
  "language_info": {
   "codemirror_mode": {
    "name": "ipython",
    "version": 3
   },
   "file_extension": ".py",
   "mimetype": "text/x-python",
   "name": "python",
   "nbconvert_exporter": "python",
   "pygments_lexer": "ipython3",
   "version": "3.8.6"
  },
  "toc-autonumbering": true,
  "toc-showcode": true,
  "toc-showmarkdowntxt": false
 },
 "nbformat": 4,
 "nbformat_minor": 4
}
